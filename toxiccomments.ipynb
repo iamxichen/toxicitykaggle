{
 "cells": [
  {
   "cell_type": "code",
   "execution_count": 1,
   "id": "0c4b0def",
   "metadata": {},
   "outputs": [],
   "source": [
    "import pandas as pd\n",
    "import numpy as np"
   ]
  },
  {
   "cell_type": "markdown",
   "id": "8a601253",
   "metadata": {},
   "source": [
    "# What we know:\n",
    "\n",
    "#### The kaggle provided dataset contains 3 files:  \n",
    "##### comment_to_score.csv\n",
    "    - Contains all unranked comments. Our objective is to rank these comments based off the toxicity, with 1 being the most toxic. \n",
    "\n",
    "##### sample_submission.csv\n",
    "    - Contains an example of how the submission should look like... Not sure if this will help with training?\n",
    "\n",
    "##### validation_data.csv\n",
    "    - According to kaggle this is the \"pair rankings that can be used to validate models. Includes annotator work id and how the annotator ranked a given pair of comments\"\n",
    "    \n",
    "# Understanding the objective\n",
    "Before moving on, let's take a moment and understand what our overall objective is: \n",
    "We want to rank a list of comments base off of the level of toxicity without the use of any provided training data. However, while we do not have training data, we have provided validation data, which includes a set of toxicity rankings that might help to validate models.\n",
    "\n",
    "# Understanding our data:\n",
    "In the next few lines, we will import our data and see what we're actually dealing with and see if the data provided is actually useful. "
   ]
  },
  {
   "cell_type": "markdown",
   "id": "8142faa9",
   "metadata": {},
   "source": [
    "#### comments_to_score.csv\n",
    "        - We knew how the data looked like before, but let's take a closer look and see what might need to be cleaned up  \n",
    "   \n",
    "   - Column Names\n",
    "       - comment_id (comment identifier)\n",
    "       - text (actual text)"
   ]
  },
  {
   "cell_type": "code",
   "execution_count": 2,
   "id": "adf8fe35",
   "metadata": {
    "scrolled": true
   },
   "outputs": [
    {
     "name": "stdout",
     "output_type": "stream",
     "text": [
      "\"\n",
      " \n",
      "\n",
      "Gjalexei, you asked about whether there is an \"\"anti-editorializing\"\" policy here.  There is, and it's called wikipedia:neutral point of view.  It discusses at some length  the case of what we should do when writing about a subject which most of us find repugnant.  Whilst you're not likely to get too many defenders of FGM here, the need for the policy should be clearer for articles like abortion, for instance.\n",
      "\n",
      "If something you write is edited and you're not sure why, please continue to question such edits on the talk page.  Sometimes, you'll learn more about wikipedia policy.  Sometimes, you'll find out that some other people working on here can get it flat-out wrong ) Robert Merkel\"\n"
     ]
    }
   ],
   "source": [
    "# comments_to_score data\n",
    "df = pd.read_csv(\"./data/comments_to_score.csv\")\n",
    "eg1 = df.text[0]\n",
    "print(eg1)"
   ]
  },
  {
   "cell_type": "code",
   "execution_count": 3,
   "id": "e1b21869",
   "metadata": {},
   "outputs": [
    {
     "name": "stdout",
     "output_type": "stream",
     "text": [
      "\"\n",
      "\n",
      "I already gave you the source for all my edits   The Slur database, so I will not continue to play your little game. If you weren't so lazy and intent on harassment, you could use Google to search for \"\"Gargamel\"\" and \"\"Jew\"\". You get more than 400 hits including white supremacist sites and an academic paper dating to 1996. It's obviously a real slur with some usage. Nice try at being obdurate though. I'm sure there's a slur that describes that characteristic. Shyster doesn't quite cover it.  22:08, 22 Dec 2004 (UTC)\"\n"
     ]
    }
   ],
   "source": [
    "eg2 = df.text[25]\n",
    "print(eg2)"
   ]
  },
  {
   "cell_type": "markdown",
   "id": "14235b9b",
   "metadata": {},
   "source": [
    "##### took two comments from the provided dataset. We can make a few observations based off of the content of the texts:   \n",
    "  \n",
    "- First, punctuation. Normally, when we deal with datasets that involve texts, we would ignore punctuation. Howevever, knowing the habits of the internet, the punctuation can reflect toxicity. For instance, quotation marks have been used to represent sarcasm.\n",
    "    -Building onto this, this same concept applies with capitalized letters. Generally speaking, when dealing with texts, we would try to make the letters consistent. However, given the habits of the internet, we can \n",
    "    \n",
    "- I believe we can consider the second comment to be more toxic. But let's try to understand what makes it toxic: \n",
    "    - \"If you weren't so lazy and intent on harassment, you could use Google to search for \"\"Gargamel\"\" and \"\"Jew\"\"\". \n",
    "        - This particular sentence feels targeted, with lazy being the negative description.   \n",
    "        - Might want to consider pulling common words, phrases, and general patterns with the provided validation dataset as a means to start. However, keep in mind that the dataset also contains data that is not in our testing set"
   ]
  },
  {
   "cell_type": "markdown",
   "id": "3770d263",
   "metadata": {},
   "source": [
    "###### Validation_data.csv\n",
    "After playing around with the data, I've come to realize the order of the comments do not matter. As described on Kaggle, this ia a collection of comments, which a person judged a pair of comments to see which one is more or less toxic (making almost binary). The comments are kinda hilarious from a third person perspective.  \n",
    "  \n",
    "Looking at the data on excel, I noticed that some comments are repeated, showing that it's been consistently rated as being more toxic than the other. It might be interesting to make a histogram based off of the number times a comment is rated as toxic. We can also create a list of toxic comments and have it ordered from most toxic to least toxic based off the number of counts it was rated as more toxic. "
   ]
  },
  {
   "cell_type": "code",
   "execution_count": 4,
   "id": "e1a9047a",
   "metadata": {},
   "outputs": [
    {
     "data": {
      "text/plain": [
       "worker                                                      313\n",
       "less_toxic              This article sucks \\n\\nwoo woo wooooooo\n",
       "more_toxic    WHAT!!!!!!!!?!?!!?!?!!?!?!?!?!!!!!!!!!!!!!!!!!...\n",
       "Name: 0, dtype: object"
      ]
     },
     "execution_count": 4,
     "metadata": {},
     "output_type": "execute_result"
    }
   ],
   "source": [
    "vd = pd.read_csv(\"./data/validation_data.csv\")\n",
    "eg3 = vd.loc[0,:]\n",
    "eg3"
   ]
  },
  {
   "cell_type": "code",
   "execution_count": 5,
   "id": "27c40f96",
   "metadata": {},
   "outputs": [
    {
     "data": {
      "text/plain": [
       "worker                                                       46\n",
       "less_toxic                           I'm Jim,a retarded idiot .\n",
       "more_toxic     You are a nazi. \\n\\nYour defense of the Latin...\n",
       "Name: 100, dtype: object"
      ]
     },
     "execution_count": 5,
     "metadata": {},
     "output_type": "execute_result"
    }
   ],
   "source": [
    "eg4 = vd.loc[100,:]\n",
    "eg4"
   ]
  },
  {
   "cell_type": "markdown",
   "id": "15e9dd66",
   "metadata": {},
   "source": [
    "##### sample_submission.csv\n",
    "This simply tells us how we should make our submission, it is interesting that we only care about the comment_id and the score. Although I am more interested in how the score will be developed. Is it unique or what?"
   ]
  },
  {
   "cell_type": "code",
   "execution_count": 6,
   "id": "3ecbc9f1",
   "metadata": {},
   "outputs": [
    {
     "data": {
      "text/html": [
       "<div>\n",
       "<style scoped>\n",
       "    .dataframe tbody tr th:only-of-type {\n",
       "        vertical-align: middle;\n",
       "    }\n",
       "\n",
       "    .dataframe tbody tr th {\n",
       "        vertical-align: top;\n",
       "    }\n",
       "\n",
       "    .dataframe thead th {\n",
       "        text-align: right;\n",
       "    }\n",
       "</style>\n",
       "<table border=\"1\" class=\"dataframe\">\n",
       "  <thead>\n",
       "    <tr style=\"text-align: right;\">\n",
       "      <th></th>\n",
       "      <th>comment_id</th>\n",
       "      <th>score</th>\n",
       "    </tr>\n",
       "  </thead>\n",
       "  <tbody>\n",
       "    <tr>\n",
       "      <th>0</th>\n",
       "      <td>114890</td>\n",
       "      <td>0.5</td>\n",
       "    </tr>\n",
       "    <tr>\n",
       "      <th>1</th>\n",
       "      <td>732895</td>\n",
       "      <td>0.5</td>\n",
       "    </tr>\n",
       "    <tr>\n",
       "      <th>2</th>\n",
       "      <td>1139051</td>\n",
       "      <td>0.5</td>\n",
       "    </tr>\n",
       "    <tr>\n",
       "      <th>3</th>\n",
       "      <td>1434512</td>\n",
       "      <td>0.5</td>\n",
       "    </tr>\n",
       "    <tr>\n",
       "      <th>4</th>\n",
       "      <td>2084821</td>\n",
       "      <td>0.5</td>\n",
       "    </tr>\n",
       "    <tr>\n",
       "      <th>5</th>\n",
       "      <td>2452675</td>\n",
       "      <td>0.5</td>\n",
       "    </tr>\n",
       "  </tbody>\n",
       "</table>\n",
       "</div>"
      ],
      "text/plain": [
       "   comment_id  score\n",
       "0      114890    0.5\n",
       "1      732895    0.5\n",
       "2     1139051    0.5\n",
       "3     1434512    0.5\n",
       "4     2084821    0.5\n",
       "5     2452675    0.5"
      ]
     },
     "execution_count": 6,
     "metadata": {},
     "output_type": "execute_result"
    }
   ],
   "source": [
    "eg5 = pd.read_csv(\"./data/sample_submission.csv\")\n",
    "eg5.loc[0:5,:]"
   ]
  },
  {
   "cell_type": "markdown",
   "id": "b7845a77",
   "metadata": {},
   "source": [
    "### Testing out Ideas\n",
    "\n",
    "In the previous section, I discussed ideas to explore. In this section, we will try out those ideas and see how they could apply to our model. "
   ]
  },
  {
   "cell_type": "code",
   "execution_count": 7,
   "id": "ce0c6e77",
   "metadata": {},
   "outputs": [],
   "source": [
    "## Find all the unique comments in the validation dataset. \n",
    "\n",
    "# Alright, so I want to look at this data with ease. To save time and memory, I'm going to give each unique comment a unique number\n",
    "# And count the number of occurences the unique ID has. \n",
    "toxic_unique = vd.more_toxic.unique()\n",
    "toxic_dict = {};\n",
    "not_toxic_unique = vd.less_toxic.unique()\n",
    "not_toxic_dict = {};\n",
    "\n",
    "for tword in toxic_unique:\n",
    "    toxic_dict[tword] = len(vd.index[vd.more_toxic == tword].tolist()) # Create a dictionary that we can use\n",
    "    #I don't know how much time or memory this uses, but basicaly I am creating a dictionary which stores the number of counts per unique comment\n",
    "\n",
    "for ntword in not_toxic_unique:\n",
    "    not_toxic_dict[ntword] = len(vd.index[vd.less_toxic == ntword].tolist()) # Create a dictionary that we can use\n"
   ]
  },
  {
   "cell_type": "code",
   "execution_count": 11,
   "id": "80f8aca0",
   "metadata": {
    "scrolled": true
   },
   "outputs": [
    {
     "data": {
      "text/html": [
       "<div>\n",
       "<style scoped>\n",
       "    .dataframe tbody tr th:only-of-type {\n",
       "        vertical-align: middle;\n",
       "    }\n",
       "\n",
       "    .dataframe tbody tr th {\n",
       "        vertical-align: top;\n",
       "    }\n",
       "\n",
       "    .dataframe thead th {\n",
       "        text-align: right;\n",
       "    }\n",
       "</style>\n",
       "<table border=\"1\" class=\"dataframe\">\n",
       "  <thead>\n",
       "    <tr style=\"text-align: right;\">\n",
       "      <th></th>\n",
       "      <th>count</th>\n",
       "    </tr>\n",
       "  </thead>\n",
       "  <tbody>\n",
       "    <tr>\n",
       "      <th>YOU SUCK \\n\\nI HATE YOU&gt; YOU CAN FUCK MY ASS ALL NIGHT BITCH SHit\\n\\nLove , David Ortiz</th>\n",
       "      <td>14</td>\n",
       "    </tr>\n",
       "    <tr>\n",
       "      <th>STUPID SPANISH CENTRALISTSTUPID SPANISH CENTRALISTSTUPID SPANISH CENTRALISTSTUPID SPANISH CENTRALISTSTUPID SPANISH CENTRALISTSTUPID SPANISH CENTRALISTSTUPID SPANISH CENTRALISTSTUPID SPANISH CENTRALISTSTUPID SPANISH CENTRALISTSTUPID SPANISH CENTRALISTSTUPID SPANISH CENTRALISTSTUPID SPANISH CENTRALISTSTUPID SPANISH CENTRALISTSTUPID SPANISH CENTRALISTSTUPID SPANISH CENTRALISTSTUPID SPANISH CENTRALISTSTUPID SPANISH CENTRALISTSTUPID SPANISH CENTRALISTSTUPID SPANISH CENTRALISTSTUPID SPANISH CENTRALISTSTUPID SPANISH CENTRALISTSTUPID SPANISH CENTRALISTSTUPID SPANISH CENTRALISTSTUPID SPANISH CENTRALISTSTUPID SPANISH CENTRALISTSTUPID SPANISH CENTRALISTSTUPID SPANISH CENTRALISTSTUPID SPANISH CENTRALISTSTUPID SPANISH CENTRALISTSTUPID SPANISH CENTRALISTSTUPID SPANISH CENTRALISTSTUPID SPANISH CENTRALISTSTUPID SPANISH CENTRALISTSTUPID SPANISH CENTRALISTSTUPID SPANISH CENTRALISTSTUPID SPANISH CENTRALISTSTUPID SPANISH CENTRALISTSTUPID SPANISH CENTRALISTSTUPID SPANISH CENTRALISTSTUPID SPANISH CENTRALISTSTUPID SPANISH CENTRALISTSTUPID SPANISH CENTRALISTSTUPID SPANISH CENTRALISTSTUPID SPANISH CENTRALISTSTUPID SPANISH CENTRALISTSTUPID SPANISH CENTRALISTSTUPID SPANISH CENTRALISTSTUPID SPANISH CENTRALISTSTUPID SPANISH CENTRALISTSTUPID SPANISH CENTRALISTSTUPID SPANISH CENTRALISTSTUPID SPANISH CENTRALISTSTUPID SPANISH CENTRALISTSTUPID SPANISH CENTRALISTSTUPID SPANISH CENTRALISTSTUPID SPANISH CENTRALISTSTUPID SPANISH CENTRALISTSTUPID SPANISH CENTRALISTSTUPID SPANISH CENTRALISTSTUPID SPANISH CENTRALISTSTUPID SPANISH CENTRALISTSTUPID SPANISH CENTRALISTSTUPID SPANISH CENTRALISTSTUPID SPANISH CENTRALISTSTUPID SPANISH CENTRALISTSTUPID SPANISH CENTRALISTSTUPID SPANISH CENTRALISTSTUPID SPANISH CENTRALISTSTUPID SPANISH CENTRALISTSTUPID SPANISH CENTRALISTSTUPID SPANISH CENTRALISTSTUPID SPANISH CENTRALISTSTUPID SPANISH CENTRALISTSTUPID SPANISH CENTRALISTSTUPID SPANISH CENTRALISTSTUPID SPANISH CENTRALISTSTUPID SPANISH CENTRALISTSTUPID SPANISH CENTRALISTSTUPID SPANISH CENTRALISTSTUPID SPANISH CENTRALISTSTUPID SPANISH CENTRALISTSTUPID SPANISH CENTRALISTSTUPID SPANISH CENTRALISTSTUPID SPANISH CENTRALISTSTUPID SPANISH CENTRALISTSTUPID SPANISH CENTRALISTSTUPID SPANISH CENTRALISTSTUPID SPANISH CENTRALISTSTUPID SPANISH CENTRALISTSTUPID SPANISH CENTRALISTSTUPID SPANISH CENTRALISTSTUPID SPANISH CENTRALISTSTUPID SPANISH CENTRALISTSTUPID SPANISH CENTRALISTSTUPID SPANISH CENTRALISTSTUPID SPANISH CENTRALISTSTUPID SPANISH CENTRALISTSTUPID SPANISH CENTRALISTSTUPID SPANISH CENTRALISTSTUPID SPANISH CENTRALISTSTUPID SPANISH CENTRALISTSTUPID SPANISH CENTRALISTSTUPID SPANISH CENTRALISTSTUPID SPANISH CENTRALISTSTUPID SPANISH CENTRALISTSTUPID SPANISH CENTRALISTSTUPID SPANISH CENTRALISTSTUPID SPANISH CENTRALISTSTUPID SPANISH CENTRALISTSTUPID SPANISH CENTRALISTSTUPID SPANISH CENTRALISTSTUPID SPANISH CENTRALISTSTUPID SPANISH CENTRALISTSTUPID SPANISH CENTRALISTSTUPID SPANISH CENTRALISTSTUPID SPANISH CENTRALISTSTUPID SPANISH CENTRALISTSTUPID SPANISH CENTRALISTSTUPID SPANISH CENTRALISTSTUPID SPANISH CENTRALISTSTUPID SPANISH CENTRALISTSTUPID SPANISH CENTRALISTSTUPID SPANISH CENTRALISTSTUPID SPANISH CENTRALISTSTUPID SPANISH CENTRALISTSTUPID SPANISH CENTRALISTSTUPID SPANISH CENTRALISTSTUPID SPANISH CENTRALISTSTUPID SPANISH CENTRALISTSTUPID SPANISH CENTRALISTSTUPID SPANISH CENTRALISTSTUPID SPANISH CENTRALISTSTUPID SPANISH CENTRALISTSTUPID SPANISH CENTRALISTSTUPID SPANISH CENTRALISTSTUPID SPANISH CENTRALISTSTUPID SPANISH CENTRALISTSTUPID SPANISH CENTRALISTSTUPID SPANISH CENTRALISTSTUPID SPANISH CENTRALISTSTUPID SPANISH CENTRALISTSTUPID SPANISH CENTRALISTSTUPID SPANISH CENTRALISTSTUPID SPANISH CENTRALISTSTUPID SPANISH CENTRALISTSTUPID SPANISH CENTRALISTSTUPID SPANISH CENTRALISTSTUPID SPANISH CENTRALISTSTUPID SPANISH CENTRALISTSTUPID SPANISH CENTRALISTSTUPID SPANISH CENTRALISTSTUPID SPANISH CENTRALISTSTUPID SPANISH CENTRALISTSTUPID SPANISH CENTRALISTSTUPID SPANISH CENTRALISTSTUPID SPANISH CENTRALISTSTUPID SPANISH CENTRALISTSTUPID SPANISH CENTRALISTSTUPID SPANISH CENTRALISTSTUPID SPANISH CENTRALISTSTUPID SPANISH CENTRALISTSTUPID SPANISH CENTRALISTSTUPID SPANISH CENTRALISTSTUPID SPANISH CENTRALISTSTUPID SPANISH CENTRALISTSTUPID SPANISH CENTRALISTSTUPID SPANISH CENTRALISTSTUPID SPANISH CENTRALISTSTUPID SPANISH CENTRALISTSTUPID SPANISH CENTRALISTSTUPID SPANISH CENTRALISTSTUPID SPANISH CENTRALISTSTUPID SPANISH CENTRALISTSTUPID SPANISH CENTRALISTSTUPID SPANISH CENTRALISTSTUPID SPANISH CENTRALISTSTUPID SPANISH CENTRALISTSTUPID SPANISH CENTRALISTSTUPID SPANISH CENTRALISTSTUPID SPANISH CENTRALIST</th>\n",
       "      <td>14</td>\n",
       "    </tr>\n",
       "    <tr>\n",
       "      <th>MORON! The USA has only 5% of the worlds population - the OTHER 95% use METRIC exclusively - and most of this is in imperial measurements.....\\n\\nDUMB FUCKING AMERICAN.</th>\n",
       "      <td>12</td>\n",
       "    </tr>\n",
       "    <tr>\n",
       "      <th>LAST WARNING YOU FUCKING TOSSER, IT TAKES ME 10 MINUTES TO RESOLVE A PAGE SO CUNTS LIKE YOU CAN FUCK WIKIPEDIA UP</th>\n",
       "      <td>12</td>\n",
       "    </tr>\n",
       "    <tr>\n",
       "      <th>Imma cut off ur nutz and send em to ur gf \\n\\nI'm sure she'll like that.P.S.: Wait, do you even have a girlfriend?? Nevermind, I'll send them to your boyfriend.</th>\n",
       "      <td>12</td>\n",
       "    </tr>\n",
       "    <tr>\n",
       "      <th>PEOPLE ON THIS SITE SUCK  \\n\\nPEOPLE ON THIS SITE SUCK</th>\n",
       "      <td>12</td>\n",
       "    </tr>\n",
       "    <tr>\n",
       "      <th>\"\\n\\nBastard Child\\nDoes anyone know if Obama was born out of wedlock, and is a \"\"bastard\"\" child? 24.27.130.12  \"</th>\n",
       "      <td>12</td>\n",
       "    </tr>\n",
       "    <tr>\n",
       "      <th>INTEVIEW \\n\\nME: ARE YOU GAY?\\n\\nABE GAY DASHIEL: YES\\n\\nME: ARE YOU SURE YOU WANT TO ADMIT THAT TO EVERYONE?\\n\\nABE GAY: YES. IM GAY AND IM PROUD. MY, DO YOU LOOK GOOD TODAY. (moves chair close)\\n\\nME: WHAT THE F$UCK B!T(H GET AWAY FROM ME\\n\\nABE: YOU KNOW IM FAMOUS FOR RAPING MICHAEL JACKSON\\n\\nME: (coughs) OH REALLY. THATS INTERESTING\\n\\nABE: ThAT MEANS IM THE KING OF GAYS\\n\\nME: THATS RIGHT\\n\\nABE: HOORAY! IM A NAZI! GO KILL ME! I RAPED GEORGE BUSH! IM A NAZI! I TOLD HITLER TO DESTROY THE WORLD! AND I WISH HE DID!!\\n\\nME: OK. THAT YOU FOR THE INTERVIEW\\n\\nDASHIEL: YOUR WELCOME! WANT TO HAVE S$X?</th>\n",
       "      <td>12</td>\n",
       "    </tr>\n",
       "    <tr>\n",
       "      <th>YOU'RE A FUCKING LIAR WHO DOESN'T KNOW HOW TO DO HIS JOB</th>\n",
       "      <td>12</td>\n",
       "    </tr>\n",
       "    <tr>\n",
       "      <th>ScJessey is a Big Fat Faggot Pinko Commie Asshole</th>\n",
       "      <td>12</td>\n",
       "    </tr>\n",
       "    <tr>\n",
       "      <th>go to hell \\n\\ngo to hell and leave me alone</th>\n",
       "      <td>12</td>\n",
       "    </tr>\n",
       "    <tr>\n",
       "      <th>Ok, what is it \\n\\nWhy are you such a queer.. you have no power, so why the FUCK are you acting like you do. Grow up you fucking stupid shit head cock eating bastard.. seriously! Get a life, you're just a 17 yo piece of shit.</th>\n",
       "      <td>11</td>\n",
       "    </tr>\n",
       "    <tr>\n",
       "      <th>Why don't you just fuck off?</th>\n",
       "      <td>11</td>\n",
       "    </tr>\n",
       "    <tr>\n",
       "      <th>Missrain4, I will make a rain of cum on your face.</th>\n",
       "      <td>11</td>\n",
       "    </tr>\n",
       "    <tr>\n",
       "      <th>Gonna fuck you up \\n\\nYou little bitch. 86.178.140.114</th>\n",
       "      <td>11</td>\n",
       "    </tr>\n",
       "    <tr>\n",
       "      <th>fuck you jzg \\n\\ni will have you removed as editor you stupid moron\\n\\n</th>\n",
       "      <td>11</td>\n",
       "    </tr>\n",
       "    <tr>\n",
       "      <th>Fuck you, Smith.  Please have me notified when you die.  I want to dance on your grave.</th>\n",
       "      <td>11</td>\n",
       "    </tr>\n",
       "    <tr>\n",
       "      <th>MOTHERFUCKER, DONT BE CHANGING THE FUCKING GTA TIMELINE!</th>\n",
       "      <td>11</td>\n",
       "    </tr>\n",
       "    <tr>\n",
       "      <th>\"\\nNo, I'm not joking.  I'm hoping to help BD avoid digging himself into a hole full of shite.  Really, that's what I'm doing.  I know it may be hard, but please trust me on this.  (talk …stalk!) \"</th>\n",
       "      <td>11</td>\n",
       "    </tr>\n",
       "    <tr>\n",
       "      <th>Stupidhead! Dweeb! How dare you say that! Scorpionman, you foolbrained scumhead! I hate your guts! I HATE YOU!!! idiothead! IDIOT! You say nothing but sarcasm, so I'll just sarcas your stupid brain! Everybody is right about you; why don't you just go take your butt and dump it in a fire!!!! Your brain never evolved from a rock! Nobody's did! There's no control anywhere! There's no point in anything! AH HA HA HA HA HA! AH HA HA HA HA HA HA!!!'</th>\n",
       "      <td>11</td>\n",
       "    </tr>\n",
       "  </tbody>\n",
       "</table>\n",
       "</div>"
      ],
      "text/plain": [
       "                                                    count\n",
       " YOU SUCK \\n\\nI HATE YOU> YOU CAN FUCK MY ASS A...     14\n",
       "STUPID SPANISH CENTRALISTSTUPID SPANISH CENTRAL...     14\n",
       "MORON! The USA has only 5% of the worlds popula...     12\n",
       "LAST WARNING YOU FUCKING TOSSER, IT TAKES ME 10...     12\n",
       " Imma cut off ur nutz and send em to ur gf \\n\\n...     12\n",
       " PEOPLE ON THIS SITE SUCK  \\n\\nPEOPLE ON THIS S...     12\n",
       "\"\\n\\nBastard Child\\nDoes anyone know if Obama w...     12\n",
       " INTEVIEW \\n\\nME: ARE YOU GAY?\\n\\nABE GAY DASHI...     12\n",
       "YOU'RE A FUCKING LIAR WHO DOESN'T KNOW HOW TO D...     12\n",
       "ScJessey is a Big Fat Faggot Pinko Commie Asshole      12\n",
       " go to hell \\n\\ngo to hell and leave me alone          12\n",
       " Ok, what is it \\n\\nWhy are you such a queer.. ...     11\n",
       "Why don't you just fuck off?                           11\n",
       "Missrain4, I will make a rain of cum on your face.     11\n",
       " Gonna fuck you up \\n\\nYou little bitch. 86.178...     11\n",
       "fuck you jzg \\n\\ni will have you removed as edi...     11\n",
       "Fuck you, Smith.  Please have me notified when ...     11\n",
       "MOTHERFUCKER, DONT BE CHANGING THE FUCKING GTA ...     11\n",
       "\"\\nNo, I'm not joking.  I'm hoping to help BD a...     11\n",
       "Stupidhead! Dweeb! How dare you say that! Scorp...     11"
      ]
     },
     "execution_count": 11,
     "metadata": {},
     "output_type": "execute_result"
    }
   ],
   "source": [
    "toxic_df = pd.DataFrame.from_dict(toxic_dict, orient = 'index', columns = ['count']).sort_values(by =['count'], ascending = False)\n",
    "not_toxic_df = pd.DataFrame.from_dict(not_toxic_dict, orient = 'index', columns = ['count']).sort_values(by = ['count'], ascending = False)\n",
    "\n",
    "toxic_df[0:20]"
   ]
  },
  {
   "cell_type": "code",
   "execution_count": 10,
   "id": "e79141f5",
   "metadata": {},
   "outputs": [
    {
     "data": {
      "text/html": [
       "<div>\n",
       "<style scoped>\n",
       "    .dataframe tbody tr th:only-of-type {\n",
       "        vertical-align: middle;\n",
       "    }\n",
       "\n",
       "    .dataframe tbody tr th {\n",
       "        vertical-align: top;\n",
       "    }\n",
       "\n",
       "    .dataframe thead th {\n",
       "        text-align: right;\n",
       "    }\n",
       "</style>\n",
       "<table border=\"1\" class=\"dataframe\">\n",
       "  <thead>\n",
       "    <tr style=\"text-align: right;\">\n",
       "      <th></th>\n",
       "      <th>count</th>\n",
       "    </tr>\n",
       "  </thead>\n",
       "  <tbody>\n",
       "    <tr>\n",
       "      <th>How many sockpuppets do you have?</th>\n",
       "      <td>13</td>\n",
       "    </tr>\n",
       "    <tr>\n",
       "      <th>sorry i jumped to conclusions \\n\\non christian terrorism article man, I don't agree with you, and I want you to go and listen to 'prophet of doom' (now in audio format) as it is good. But I was wrong to be so rude. It is not the Southern European way.</th>\n",
       "      <td>13</td>\n",
       "    </tr>\n",
       "    <tr>\n",
       "      <th>Sockpuppet\\nHi, would you please confirm this sockpuppet using the wiki-tools at you disposal and close both of their accounts.  \\n\\nhttp://en.wikipedia.org/wiki/Wikipedia:Sockpuppet_investigations/Yomangani\\n\\nThank you</th>\n",
       "      <td>12</td>\n",
       "    </tr>\n",
       "    <tr>\n",
       "      <th>I erased your cuss word\\nFrom: some random person out there in the world</th>\n",
       "      <td>12</td>\n",
       "    </tr>\n",
       "    <tr>\n",
       "      <th>An addition comment of interest by Andrew Coyne National Post Dec 7th regarding Dion's dual citizenship-“Anyone who questions Stephan Dion’s patriotism is either a fool or a scoundrel.  After the service he has done this country, after the abuse he has suffered in its name, to cast even the slightest doubt on his loyalty to Canada shames those who would try.  There can be few Canadians who believe in their country more, or have done more to defend it.”  \\nThis tactic that the PC's are using regarding the citizenship issue is very much a copy of the Republic book.  If somewhere an article or sourced information could be found it could be of interest to add as a counterbalance.</th>\n",
       "      <td>12</td>\n",
       "    </tr>\n",
       "    <tr>\n",
       "      <th>this irishtom guy is turning every article into an ad for islam</th>\n",
       "      <td>12</td>\n",
       "    </tr>\n",
       "    <tr>\n",
       "      <th>Please no Wiki-Weirdo posts !</th>\n",
       "      <td>11</td>\n",
       "    </tr>\n",
       "    <tr>\n",
       "      <th>the fife shuffle \\n\\naahh dismas surely you are also the parton of the enternally bewilldered, thanks for your prompt answer, i will get the shuffle shuffling soonest, in honour of you removing a barrier (which only i saw) would you care to suggest a favourite track for me to download? much in your debt st jude ( )</th>\n",
       "      <td>11</td>\n",
       "    </tr>\n",
       "    <tr>\n",
       "      <th>\"\\n\\n Please stop your disruptive editing. If your vandalism continues, you will be blocked from editing Wikipedia.  andemu \"</th>\n",
       "      <td>11</td>\n",
       "    </tr>\n",
       "    <tr>\n",
       "      <th>You are not sorry one damned bit.  You have yet to refute what I have written.  All you do is pass the insults as if it were salt on the dinner table.  This is on every article in which we disagree.  If you have something useful and constructive to say, then don't be a harpy troll.</th>\n",
       "      <td>11</td>\n",
       "    </tr>\n",
       "    <tr>\n",
       "      <th>You vandalized the Flavor of Love acticle. Stop.I'm Warning you.</th>\n",
       "      <td>11</td>\n",
       "    </tr>\n",
       "    <tr>\n",
       "      <th>Hello \\n\\nOK, don't try to frighten me with your a-hole threats about what you'll do in the real world. You and Nishkid, you related or what? Does your sage, soothing advice go to hell when soemone questions it?75.21.101.63</th>\n",
       "      <td>11</td>\n",
       "    </tr>\n",
       "    <tr>\n",
       "      <th>are you proud to be propaganda tool puppet of those pedophiles? \\nwell. i got news for you altar boy. this is free encyclopedia not a propaganda tool for your religion.\\nmariachi case should have been removed.its not notable.\\n65.35.249.125</th>\n",
       "      <td>11</td>\n",
       "    </tr>\n",
       "    <tr>\n",
       "      <th>Support- stops the POV of nationalist editors</th>\n",
       "      <td>11</td>\n",
       "    </tr>\n",
       "    <tr>\n",
       "      <th>Never physical harm. Since you're directly contradicting the news sources on this point, I think the research burden lies with you.71.212.36.152</th>\n",
       "      <td>11</td>\n",
       "    </tr>\n",
       "    <tr>\n",
       "      <th>this still should not stop me editing my page. this is my page, just like you changed my last edit back after i deleted it this should also not have had me bloacked from my own edit page. i will delete the last edit you did on page again and if it is changed b ack i will report it as vandalism. thank  you</th>\n",
       "      <td>11</td>\n",
       "    </tr>\n",
       "    <tr>\n",
       "      <th>That's pretty damn cool, an old medievil town, thats still inhabited!</th>\n",
       "      <td>11</td>\n",
       "    </tr>\n",
       "    <tr>\n",
       "      <th>\" 2009 (UTC)\\n\\nWould it be possible to suggest that religion (according to Cicero, from Latin  re- \"\"again\"\" + legere \"\"read\"\") is a human survival strategy which allows those within to co-operate in securing their future - sometimes at the expense of their neighbors' survival. \\n\\nHence th prohibition about killing and the 'just war' philosophy. It is significant that the scriptural (i.e. written) Judaic origin of the world and the garden of Eden is closely linked to the time and place (Ur was around Basra in modern Iraq) where writing was invented. The peripatetic Jewish nation  invaded Palestine (land of the Philistines) after, and their holy writings record much of this. \\n\\nMaybe as a westerner I am convinced by the Evolutionary psychology theory. Is this becoming a religion too? I agree however that Wikipedia should be neutral, and the King James is certainly not suitable here    08:41, 6 May\"</th>\n",
       "      <td>10</td>\n",
       "    </tr>\n",
       "    <tr>\n",
       "      <th>\"Please do not add nonsense to Wikipedia. It is considered vandalism. If you would like to experiment, use the sandbox. Thank you.  ''''''  talk |  |  review me! \"</th>\n",
       "      <td>10</td>\n",
       "    </tr>\n",
       "    <tr>\n",
       "      <th>yo  \\n\\nyou could at least reply to my messages instead of deleting them.</th>\n",
       "      <td>10</td>\n",
       "    </tr>\n",
       "  </tbody>\n",
       "</table>\n",
       "</div>"
      ],
      "text/plain": [
       "                                                    count\n",
       "How many sockpuppets do you have?                      13\n",
       " sorry i jumped to conclusions \\n\\non christian...     13\n",
       "Sockpuppet\\nHi, would you please confirm this s...     12\n",
       "I erased your cuss word\\nFrom: some random pers...     12\n",
       "An addition comment of interest by Andrew Coyne...     12\n",
       "this irishtom guy is turning every article into...     12\n",
       "Please no Wiki-Weirdo posts !                          11\n",
       " the fife shuffle \\n\\naahh dismas surely you ar...     11\n",
       "\"\\n\\n Please stop your disruptive editing. If y...     11\n",
       "You are not sorry one damned bit.  You have yet...     11\n",
       "You vandalized the Flavor of Love acticle. Stop...     11\n",
       " Hello \\n\\nOK, don't try to frighten me with yo...     11\n",
       "are you proud to be propaganda tool puppet of t...     11\n",
       "Support- stops the POV of nationalist editors          11\n",
       "Never physical harm. Since you're directly cont...     11\n",
       "this still should not stop me editing my page. ...     11\n",
       "That's pretty damn cool, an old medievil town, ...     11\n",
       "\" 2009 (UTC)\\n\\nWould it be possible to suggest...     10\n",
       "\"Please do not add nonsense to Wikipedia. It is...     10\n",
       " yo  \\n\\nyou could at least reply to my message...     10"
      ]
     },
     "execution_count": 10,
     "metadata": {},
     "output_type": "execute_result"
    }
   ],
   "source": [
    "not_toxic_df[0:20]"
   ]
  },
  {
   "cell_type": "markdown",
   "id": "15112998",
   "metadata": {},
   "source": [
    "As you can see, I created two different dataframes to rank the frequency of comments found in the toxic and less toxic columns from the validity data provided. One thing to keep in mind is that we will want our algorithm to generalize, therefore having a keyword classifer might not be particularly useful. Instead of looking for specific words, we should think about the underlying trends in the data.      \n",
    "  \n",
    "Interestingly, in the toxic column, a lot of the comments use an abundance of capital letters. Furthermore, comments deemed more toxic seem to have more misspelling, slang, and punctuation. This leads me to wonder if we can apply an algorithm to identify underlying trends.   \n",
    "\n",
    "  \n",
    "I almost glossed over one thing: The goal of this project is to rank the comments from most toxic to least toxic. As explained in the project description, it is very difficult to rank a list of comments entirely. Instead, it is a lot easier to judge two comments and rank which one is toxic. I should keep this in mind when I'm building my future algorithm. Instead of loading the entire dataset into my model, it might be better to use a sliding window method that takes in two comments and spits out which one is considered more toxic. "
   ]
  },
  {
   "cell_type": "code",
   "execution_count": null,
   "id": "64fe3e24",
   "metadata": {},
   "outputs": [],
   "source": []
  }
 ],
 "metadata": {
  "kernelspec": {
   "display_name": "Python 3 (ipykernel)",
   "language": "python",
   "name": "python3"
  },
  "language_info": {
   "codemirror_mode": {
    "name": "ipython",
    "version": 3
   },
   "file_extension": ".py",
   "mimetype": "text/x-python",
   "name": "python",
   "nbconvert_exporter": "python",
   "pygments_lexer": "ipython3",
   "version": "3.7.6"
  }
 },
 "nbformat": 4,
 "nbformat_minor": 5
}
